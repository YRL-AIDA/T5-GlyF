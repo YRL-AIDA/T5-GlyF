{
  "nbformat": 4,
  "nbformat_minor": 0,
  "metadata": {
    "colab": {
      "provenance": [],
      "gpuType": "T4"
    },
    "kernelspec": {
      "name": "python3",
      "display_name": "Python 3"
    },
    "language_info": {
      "name": "python"
    },
    "accelerator": "GPU"
  },
  "cells": [
    {
      "cell_type": "code",
      "execution_count": null,
      "metadata": {
        "id": "1HZQqw0HXuKZ"
      },
      "outputs": [],
      "source": [
        "!git clone https://github.com/YRL-AIDA/T5-GlyF.git\n",
        "%cd T5-GlyF\n",
        "!pip install -r requirements.txt"
      ]
    },
    {
      "cell_type": "code",
      "source": [
        "import torch\n",
        "from glyf.corrector.glyph_corrector import GlyphCorrector\n",
        "from utils.utils import load_pkl, load_json"
      ],
      "metadata": {
        "id": "u6zYjmKcX-Ej"
      },
      "execution_count": 2,
      "outputs": []
    },
    {
      "cell_type": "code",
      "source": [
        "path_to_data = 'data/processed/small_dataset_example.pkl'\n",
        "path_to_model = '/content/drive/MyDrive/homoglyphs/model'\n",
        "path_to_glyphs = 'data/external/homoglyphs.pkl'\n",
        "device = 'cuda' if torch.cuda.is_available() else 'cpu'\n",
        "prefix = 'fix homoglyphs: '\n",
        "\n",
        "corrector = GlyphCorrector(path_to_model, path_to_glyphs, prefix, device)\n",
        "print(f'Device: {device}')\n",
        "print(corrector.__doc__)"
      ],
      "metadata": {
        "colab": {
          "base_uri": "https://localhost:8080/"
        },
        "id": "tCLYvXs-ZNxu",
        "outputId": "9cc50be7-d463-47c1-adf2-5db06710a046"
      },
      "execution_count": 3,
      "outputs": [
        {
          "output_type": "stream",
          "name": "stdout",
          "text": [
            "Device: cuda\n",
            "\n",
            "    Inference class for trained model.\n",
            "\n",
            "    :param model_path: path to model; \n",
            "    :param glyphs_path: path to dictionary of homoglyphs;\n",
            "    :param prefix: additional prompt for model (for example, 'fix homoglyphs: '), some models need it;\n",
            "    :param device: device on which the model will be located (cpu/gpu);\n",
            "    \n"
          ]
        }
      ]
    },
    {
      "cell_type": "code",
      "source": [
        "path_to_data = 'data/processed/small_dataset_example.pkl'\n",
        "examples = load_pkl(path_to_data)\n",
        "print(len(examples))\n",
        "examples[:3]"
      ],
      "metadata": {
        "colab": {
          "base_uri": "https://localhost:8080/"
        },
        "id": "jpdN-MCubf4X",
        "outputId": "5a406cf1-968f-4be5-df7d-23a7ae8f6e75"
      },
      "execution_count": 4,
      "outputs": [
        {
          "output_type": "stream",
          "name": "stdout",
          "text": [
            "1000\n"
          ]
        },
        {
          "output_type": "execute_result",
          "data": {
            "text/plain": [
              "[['Tending to calɱ  мᴏԁȩɽɑƫę ơɼ țʀàṅʠᴜі1ɪᴢẹ',\n",
              "  'Tending to calm  moderate or tranquilize'],\n",
              " ['A VISCID FLUID SECRETED BY MUCOUS MEMBRANES  WHICH IT SERVES TO MOISTEN AND PROTECT. IT COVERS THE LINING MEMBRANES OF ALL THE CAVITIES WHICH OPEN EXTERNALLY SUCH AS THOSE OF THE MOUTH NOSE LUNGS INTESTINAL CANAL URINARY PASSAGEȘ ȨṬС.',\n",
              "  'A VISCID FLUID SECRETED BY MUCOUS MEMBRANES  WHICH IT SERVES TO MOISTEN AND PROTECT. IT COVERS THE LINING MEMBRANES OF ALL THE CAVITIES WHICH OPEN EXTERNALLY SUCH AS THOSE OF THE MOUTH NOSE LUNGS INTESTINAL CANAL URINARY PASSAGES ETC.'],\n",
              " ['ANY ONE OF NUMEROUS SPECIES OF EUROPEAN MOTHS OF THE FAMILY LȨŪÇАṈĪḌĄĘ.',\n",
              "  'ANY ONE OF NUMEROUS SPECIES OF EUROPEAN MOTHS OF THE FAMILY LEUCANIDAE.']]"
            ]
          },
          "metadata": {},
          "execution_count": 4
        }
      ]
    },
    {
      "cell_type": "code",
      "source": [
        "print(corrector.correct.__doc__)"
      ],
      "metadata": {
        "colab": {
          "base_uri": "https://localhost:8080/"
        },
        "id": "kPIceMK0mHlJ",
        "outputId": "78c22dca-ac83-42ac-956f-67f18a2a65c4"
      },
      "execution_count": 11,
      "outputs": [
        {
          "output_type": "stream",
          "name": "stdout",
          "text": [
            "\n",
            "        Corrects a single input sentence.\n",
            "\n",
            "        :param x: input sentence;\n",
            "        :return: corrected sentence.\n",
            "        \n"
          ]
        }
      ]
    },
    {
      "cell_type": "code",
      "source": [
        "corrected_example = corrector.correct(examples[0][0])\n",
        "print()\n",
        "print(f'Original sentence:  {examples[0][1]}')\n",
        "print(f'With homoglyphs:    {examples[0][0]}')\n",
        "print(f'Corrected sentence: {corrected_example}')"
      ],
      "metadata": {
        "colab": {
          "base_uri": "https://localhost:8080/"
        },
        "id": "COoi5l2ccCJg",
        "outputId": "dd4ed8f6-20f8-4160-ad94-a4df9f221034"
      },
      "execution_count": 5,
      "outputs": [
        {
          "output_type": "stream",
          "name": "stderr",
          "text": [
            "100%|██████████| 1/1 [00:03<00:00,  3.93s/it]"
          ]
        },
        {
          "output_type": "stream",
          "name": "stdout",
          "text": [
            "\n",
            "Original sentence:  Tending to calm  moderate or tranquilize\n",
            "With homoglyphs:    Tending to calɱ  мᴏԁȩɽɑƫę ơɼ țʀàṅʠᴜі1ɪᴢẹ\n",
            "Corrected sentence: Tending to calm  moderate or tranquilize\n"
          ]
        },
        {
          "output_type": "stream",
          "name": "stderr",
          "text": [
            "\n"
          ]
        }
      ]
    },
    {
      "cell_type": "code",
      "source": [
        "print(corrector.batch_correct.__doc__)"
      ],
      "metadata": {
        "colab": {
          "base_uri": "https://localhost:8080/"
        },
        "id": "ZAvE6HZmmDXZ",
        "outputId": "5f021803-f702-4e37-8ab7-4175f70eafbc"
      },
      "execution_count": 10,
      "outputs": [
        {
          "output_type": "stream",
          "name": "stdout",
          "text": [
            "\n",
            "        Corrects input list of sentences.\n",
            "\n",
            "        :param sentences: input list of sentences;\n",
            "        :param batch_size: size of subsample of input sentences;\n",
            "        :return: corrected sentences.\n",
            "        \n"
          ]
        }
      ]
    },
    {
      "cell_type": "code",
      "source": [
        "corrected_examples = corrector.batch_correct([x[0] for x in examples[:5]], batch_size=5)[0]\n",
        "corrected_examples"
      ],
      "metadata": {
        "colab": {
          "base_uri": "https://localhost:8080/"
        },
        "id": "qDqgdDlpc1Pp",
        "outputId": "7e61a634-5e4b-47c8-b0c8-063ffdae0fcc"
      },
      "execution_count": 6,
      "outputs": [
        {
          "output_type": "stream",
          "name": "stderr",
          "text": [
            "100%|██████████| 1/1 [00:03<00:00,  3.14s/it]\n"
          ]
        },
        {
          "output_type": "execute_result",
          "data": {
            "text/plain": [
              "['Tending to calm  moderate or tranquilize',\n",
              " 'A VISCID FLUID SECRETED BY MUCOUS MEMBRANES  WHICH IT SERVES TO MOISTEN AND PROTECT. IT COVERS THE LINING MEMBRANES OF ALL THE CAVITIES WHICH OPEN EXTERNALLY SUCH AS THOSE OF THE MOUTH NOSE LUNGS INTESTINAL CANAL URINARY PASSAGES ETC.',\n",
              " 'ANY ONE OF NUMEROUS SPECIES OF EUROPEAN MOTHS OF THE FAMILY LEUCANIDAE.',\n",
              " 'The positive  or non-acid component of a salt; a substance which combined with an acid neutralizes the latter and forms a salt; -- applied also to the hydroxides of the positive elements or radicals and to certain organic bodies resembling them in their property of forming salts with acids.',\n",
              " 'A picture or hieroglyph representing and expressing an idea.']"
            ]
          },
          "metadata": {},
          "execution_count": 6
        }
      ]
    },
    {
      "cell_type": "code",
      "source": [
        "for i in range(len(examples[:5])):\n",
        "  print(f'Original sentence:  {examples[i][1]}')\n",
        "  print(f'With homoglyphs:    {examples[i][0]}')\n",
        "  print(f'Corrected sentence: {corrected_examples[i]}')\n",
        "  print('-'*42)"
      ],
      "metadata": {
        "colab": {
          "base_uri": "https://localhost:8080/"
        },
        "id": "0pO5_TKoeKaB",
        "outputId": "fd1cd867-8fab-4c4a-cffb-cff2858e49d6"
      },
      "execution_count": 7,
      "outputs": [
        {
          "output_type": "stream",
          "name": "stdout",
          "text": [
            "Original sentence:  Tending to calm  moderate or tranquilize\n",
            "With homoglyphs:    Tending to calɱ  мᴏԁȩɽɑƫę ơɼ țʀàṅʠᴜі1ɪᴢẹ\n",
            "Corrected sentence: Tending to calm  moderate or tranquilize\n",
            "------------------------------------------\n",
            "Original sentence:  A VISCID FLUID SECRETED BY MUCOUS MEMBRANES  WHICH IT SERVES TO MOISTEN AND PROTECT. IT COVERS THE LINING MEMBRANES OF ALL THE CAVITIES WHICH OPEN EXTERNALLY SUCH AS THOSE OF THE MOUTH NOSE LUNGS INTESTINAL CANAL URINARY PASSAGES ETC.\n",
            "With homoglyphs:    A VISCID FLUID SECRETED BY MUCOUS MEMBRANES  WHICH IT SERVES TO MOISTEN AND PROTECT. IT COVERS THE LINING MEMBRANES OF ALL THE CAVITIES WHICH OPEN EXTERNALLY SUCH AS THOSE OF THE MOUTH NOSE LUNGS INTESTINAL CANAL URINARY PASSAGEȘ ȨṬС.\n",
            "Corrected sentence: A VISCID FLUID SECRETED BY MUCOUS MEMBRANES  WHICH IT SERVES TO MOISTEN AND PROTECT. IT COVERS THE LINING MEMBRANES OF ALL THE CAVITIES WHICH OPEN EXTERNALLY SUCH AS THOSE OF THE MOUTH NOSE LUNGS INTESTINAL CANAL URINARY PASSAGES ETC.\n",
            "------------------------------------------\n",
            "Original sentence:  ANY ONE OF NUMEROUS SPECIES OF EUROPEAN MOTHS OF THE FAMILY LEUCANIDAE.\n",
            "With homoglyphs:    ANY ONE OF NUMEROUS SPECIES OF EUROPEAN MOTHS OF THE FAMILY LȨŪÇАṈĪḌĄĘ.\n",
            "Corrected sentence: ANY ONE OF NUMEROUS SPECIES OF EUROPEAN MOTHS OF THE FAMILY LEUCANIDAE.\n",
            "------------------------------------------\n",
            "Original sentence:  The positive  or non-acid component of a salt; a substance which combined with an acid neutralizes the latter and forms a salt; -- applied also to the hydroxides of the positive elements or radicals and to certain organic bodies resembling them in their property of forming salts with acids.\n",
            "With homoglyphs:    The positive  or non-acid component of a salt; a substance which combined with an acid neutralizes the latter and forms a salt; -- applied also to the hydroxides of the positive elements or radicals and to certain organic bodies resembling them in their property of formīńġ ṡạiƫṣ ẇỉțẖ ɑċìḏʂ.\n",
            "Corrected sentence: The positive  or non-acid component of a salt; a substance which combined with an acid neutralizes the latter and forms a salt; -- applied also to the hydroxides of the positive elements or radicals and to certain organic bodies resembling them in their property of forming salts with acids.\n",
            "------------------------------------------\n",
            "Original sentence:  A picture or hieroglyph representing and expressing an idea.\n",
            "With homoglyphs:    A picture or hieroglyph representing and expressing an iḏеą.\n",
            "Corrected sentence: A picture or hieroglyph representing and expressing an idea.\n",
            "------------------------------------------\n"
          ]
        }
      ]
    },
    {
      "cell_type": "code",
      "source": [
        "print(corrector.evaluate.__doc__)"
      ],
      "metadata": {
        "colab": {
          "base_uri": "https://localhost:8080/"
        },
        "id": "TM6e0TZFedNl",
        "outputId": "5b5a5d25-f757-483d-bbd5-f19e49fb3770"
      },
      "execution_count": 8,
      "outputs": [
        {
          "output_type": "stream",
          "name": "stdout",
          "text": [
            "\n",
            "        Evaluate the model on dataset.\n",
            "\n",
            "        :param dataset: data ([[X, y], ...], X - attacked sentence, y - corrected sentence);\n",
            "        :param batch_size: size of subsample of input sentences (default = 32);\n",
            "        :param logs_path: path to file for logging (for example, 'logs.log');\n",
            "        :return: calculated metrics on the dataset (accuracy and levenshtein ratio)\n",
            "        \n"
          ]
        }
      ]
    },
    {
      "cell_type": "code",
      "source": [
        "acc, l_ratio = corrector.evaluate(examples, batch_size=128, logs_path='logs/logs.log')\n",
        "print()\n",
        "print(f'Accuracy: {acc}')\n",
        "print(f'Levenshtein ratio: {l_ratio}')"
      ],
      "metadata": {
        "colab": {
          "base_uri": "https://localhost:8080/"
        },
        "id": "_BJWA989ejGd",
        "outputId": "82789ef8-df5f-4b6a-f506-5d18da12d2a7"
      },
      "execution_count": 9,
      "outputs": [
        {
          "output_type": "stream",
          "name": "stderr",
          "text": [
            "100%|██████████| 8/8 [00:46<00:00,  5.81s/it]"
          ]
        },
        {
          "output_type": "stream",
          "name": "stdout",
          "text": [
            "\n",
            "Accuracy: 0.993\n",
            "Levenshtein ratio: 0.9999399820820181\n"
          ]
        },
        {
          "output_type": "stream",
          "name": "stderr",
          "text": [
            "\n"
          ]
        }
      ]
    }
  ]
}