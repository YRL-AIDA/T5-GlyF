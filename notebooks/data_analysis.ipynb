{
 "cells": [
  {
   "cell_type": "code",
   "execution_count": 1,
   "id": "15be75a2",
   "metadata": {
    "scrolled": true
   },
   "outputs": [
    {
     "name": "stdout",
     "output_type": "stream",
     "text": [
      "Collecting nltk\n",
      "  Downloading nltk-3.9.1-py3-none-any.whl (1.5 MB)\n",
      "\u001b[K     |████████████████████████████████| 1.5 MB 447 kB/s eta 0:00:01\n",
      "\u001b[?25hRequirement already satisfied: tqdm in /opt/conda/lib/python3.8/site-packages (from nltk) (4.60.0)\n",
      "Collecting regex>=2021.8.3\n",
      "  Downloading regex-2024.9.11-cp38-cp38-manylinux_2_17_x86_64.manylinux2014_x86_64.whl (785 kB)\n",
      "\u001b[K     |████████████████████████████████| 785 kB 37.2 MB/s eta 0:00:01\n",
      "\u001b[?25hRequirement already satisfied: joblib in /opt/conda/lib/python3.8/site-packages (from nltk) (1.3.2)\n",
      "Requirement already satisfied: click in /opt/conda/lib/python3.8/site-packages (from nltk) (8.1.7)\n",
      "Installing collected packages: regex, nltk\n",
      "Successfully installed nltk-3.9.1 regex-2024.9.11\n",
      "Collecting seaborn\n",
      "  Downloading seaborn-0.13.2-py3-none-any.whl (294 kB)\n",
      "\u001b[K     |████████████████████████████████| 294 kB 254 kB/s eta 0:00:01\n",
      "\u001b[?25hRequirement already satisfied: numpy!=1.24.0,>=1.20 in /opt/conda/lib/python3.8/site-packages (from seaborn) (1.24.4)\n",
      "Requirement already satisfied: matplotlib!=3.6.1,>=3.4 in /opt/conda/lib/python3.8/site-packages (from seaborn) (3.4.1)\n",
      "Requirement already satisfied: pandas>=1.2 in /opt/conda/lib/python3.8/site-packages (from seaborn) (1.2.4)\n",
      "Requirement already satisfied: pillow>=6.2.0 in /opt/conda/lib/python3.8/site-packages (from matplotlib!=3.6.1,>=3.4->seaborn) (8.2.0)\n",
      "Requirement already satisfied: pyparsing>=2.2.1 in /opt/conda/lib/python3.8/site-packages (from matplotlib!=3.6.1,>=3.4->seaborn) (2.4.7)\n",
      "Requirement already satisfied: cycler>=0.10 in /opt/conda/lib/python3.8/site-packages (from matplotlib!=3.6.1,>=3.4->seaborn) (0.10.0)\n",
      "Requirement already satisfied: kiwisolver>=1.0.1 in /opt/conda/lib/python3.8/site-packages (from matplotlib!=3.6.1,>=3.4->seaborn) (1.3.1)\n",
      "Requirement already satisfied: python-dateutil>=2.7 in /opt/conda/lib/python3.8/site-packages (from matplotlib!=3.6.1,>=3.4->seaborn) (2.8.1)\n",
      "Requirement already satisfied: six in /opt/conda/lib/python3.8/site-packages (from cycler>=0.10->matplotlib!=3.6.1,>=3.4->seaborn) (1.15.0)\n",
      "Requirement already satisfied: pytz>=2017.3 in /opt/conda/lib/python3.8/site-packages (from pandas>=1.2->seaborn) (2021.1)\n",
      "Installing collected packages: seaborn\n",
      "Successfully installed seaborn-0.13.2\n"
     ]
    }
   ],
   "source": [
    "!pip install nltk\n",
    "!pip install seaborn"
   ]
  },
  {
   "cell_type": "code",
   "execution_count": 2,
   "id": "53aef5a1",
   "metadata": {},
   "outputs": [
    {
     "name": "stderr",
     "output_type": "stream",
     "text": [
      "<frozen importlib._bootstrap>:219: RuntimeWarning: scipy._lib.messagestream.MessageStream size changed, may indicate binary incompatibility. Expected 56 from C header, got 64 from PyObject\n",
      "[nltk_data] Downloading package punkt_tab to /home/jovyan/nltk_data...\n",
      "[nltk_data]   Unzipping tokenizers/punkt_tab.zip.\n"
     ]
    },
    {
     "data": {
      "text/plain": [
       "True"
      ]
     },
     "execution_count": 2,
     "metadata": {},
     "output_type": "execute_result"
    }
   ],
   "source": [
    "import numpy as np\n",
    "import pickle\n",
    "import pandas as pd\n",
    "\n",
    "import nltk\n",
    "from nltk.tokenize import word_tokenize\n",
    "from tqdm import tqdm, trange\n",
    "import matplotlib.pyplot as plt\n",
    "import seaborn as sns\n",
    "import pickle\n",
    "import enum\n",
    "nltk.download('punkt_tab')"
   ]
  },
  {
   "cell_type": "code",
   "execution_count": 3,
   "id": "5a03f1c7",
   "metadata": {},
   "outputs": [],
   "source": [
    "def analyzeSentences(sentences, stop_words, alphabet, availableLetters):\n",
    "  meanWordLength = []\n",
    "  meanSentenceLength = []\n",
    "  char_sum = 0\n",
    "\n",
    "  pbar = tqdm(sentences)\n",
    "\n",
    "  for sentence in pbar:\n",
    "    words = word_tokenize(sentence)\n",
    "    words = [word for word in words if word not in stop_words]\n",
    "    wordsLength = [len(word) for word in words]\n",
    "\n",
    "    meanWordLength.append(np.mean(wordsLength))\n",
    "    meanSentenceLength.append(len(sentence))\n",
    "\n",
    "    words = \"\".join(words)\n",
    "    for char in words:\n",
    "      if char in availableLetters:\n",
    "        alphabet[char] += 1\n",
    "        char_sum += 1\n",
    "\n",
    "  print(f'\\nMean word`s length: {np.mean(meanWordLength)}')\n",
    "  print(f'Mean sentence`s length: {np.mean(meanSentenceLength)}')\n",
    "  print(f'Count of letters: {char_sum}')\n",
    "  print('-'*20)\n",
    "\n",
    "  letters = np.array(list(alphabet.keys()))\n",
    "  count = np.array(list(alphabet.values()), dtype='float32')\n",
    "\n",
    "  data = {\n",
    "    'letters': letters,\n",
    "    'count': count,\n",
    "    'frequency': count/char_sum,\n",
    "    'freq%': (count/char_sum)*100,\n",
    "    'priority': 1 - (count/char_sum)\n",
    "  }\n",
    "\n",
    "  df = pd.DataFrame(data)\n",
    "\n",
    "  return df, meanWordLength, meanSentenceLength"
   ]
  },
  {
   "cell_type": "code",
   "execution_count": 4,
   "id": "f546cb60",
   "metadata": {},
   "outputs": [],
   "source": [
    "class generation_strategy(enum.Enum):\n",
    "  by_const = 'by-const'\n",
    "  by_percentage = 'by-percentage'\n",
    "  by_size = 'by-size'\n",
    "\n",
    "# Поиск возможных замен (генерация, оценка)\n",
    "def get_index(lst, targets):\n",
    "  lst = np.array(lst)\n",
    "  indices = np.asarray([], dtype='int32')\n",
    "  for target in targets:\n",
    "    temp = np.where(lst == target)[0]\n",
    "    indices = np.concatenate([indices, temp], dtype='int32')\n",
    "  return indices\n",
    "\n",
    "# Изменение символов строки на ее омоглифы\n",
    "def perturbate(homoglyphs, words, strategy, priority, min_perturb=1, max_perturb=1, limits=[]):\n",
    "  glyphs_list = list(glyphs.keys())\n",
    "  order = dict(zip(glyphs_list, np.zeros(len(glyphs_list), dtype=np.int32)))\n",
    "    \n",
    "  data = []\n",
    "  target = list(homoglyphs.keys())\n",
    "  pbar = tqdm(words)\n",
    "  for word in pbar:\n",
    "    w = list(word)\n",
    "    list_index = get_index(w, target)\n",
    "\n",
    "    if strategy == generation_strategy.by_const:\n",
    "      if len(list_index) >= min_perturb:\n",
    "        max_perturb = min(len(list_index), max_perturb)\n",
    "      else:\n",
    "        max_perturb = len(list_index)\n",
    "        min_perturb = 1\n",
    "    elif strategy == generation_strategy.by_percentage:\n",
    "      min_perturb = max(round(len(w)*min_perturb), 1)\n",
    "      max_perturb = round(len(w)*max_perturb)\n",
    "    elif strategy == generation_strategy.by_size:\n",
    "      for limit in limits:\n",
    "        if len(w) <= limit[0]:\n",
    "          min_perturb = max(round(len(w)*limit[1]), 1)\n",
    "          max_perturb = round(len(w)*limit[2])\n",
    "          break\n",
    "        else:\n",
    "          min_perturb = 1\n",
    "          max_perturb = round(len(w)*0.055)\n",
    "\n",
    "    for perturb in range(min_perturb, max_perturb + 1):\n",
    "\n",
    "      char_priority = [(priority[word[idx]], idx) for idx in list_index]\n",
    "      index = np.sort(char_priority, axis=0)[-perturb:,1][::-1].astype(np.int32)\n",
    "\n",
    "      for i in index:\n",
    "        w[i] = homoglyphs[word[i]][order[word[i]]]\n",
    "        order[word[i]] = (order[word[i]] + 1) % len(homoglyphs[word[i]])\n",
    "      data.append([\"\".join(w), word])\n",
    "      w = list(word)\n",
    "\n",
    "  return data"
   ]
  },
  {
   "cell_type": "code",
   "execution_count": 4,
   "id": "0ca27c3b",
   "metadata": {},
   "outputs": [],
   "source": [
    "with open('data/homoglyphs.pkl', 'rb') as file:\n",
    "    glyphs = pickle.load(file)"
   ]
  },
  {
   "cell_type": "code",
   "execution_count": 6,
   "id": "d3c616b4",
   "metadata": {},
   "outputs": [
    {
     "data": {
      "text/plain": [
       "376410"
      ]
     },
     "execution_count": 6,
     "metadata": {},
     "output_type": "execute_result"
    }
   ],
   "source": [
    "with open('data/dictionary_sentences_balanced.pkl', 'rb') as file:\n",
    "    sentences = pickle.load(file)\n",
    "len(sentences)"
   ]
  },
  {
   "cell_type": "code",
   "execution_count": 7,
   "id": "87bb2702",
   "metadata": {},
   "outputs": [
    {
     "data": {
      "text/html": [
       "<div>\n",
       "<style scoped>\n",
       "    .dataframe tbody tr th:only-of-type {\n",
       "        vertical-align: middle;\n",
       "    }\n",
       "\n",
       "    .dataframe tbody tr th {\n",
       "        vertical-align: top;\n",
       "    }\n",
       "\n",
       "    .dataframe thead th {\n",
       "        text-align: right;\n",
       "    }\n",
       "</style>\n",
       "<table border=\"1\" class=\"dataframe\">\n",
       "  <thead>\n",
       "    <tr style=\"text-align: right;\">\n",
       "      <th></th>\n",
       "      <th>letters</th>\n",
       "      <th>count</th>\n",
       "      <th>frequency</th>\n",
       "      <th>freq%</th>\n",
       "      <th>priority</th>\n",
       "    </tr>\n",
       "  </thead>\n",
       "  <tbody>\n",
       "    <tr>\n",
       "      <th>0</th>\n",
       "      <td>a</td>\n",
       "      <td>738459.0</td>\n",
       "      <td>0.040478</td>\n",
       "      <td>4.047799</td>\n",
       "      <td>0.959522</td>\n",
       "    </tr>\n",
       "    <tr>\n",
       "      <th>1</th>\n",
       "      <td>b</td>\n",
       "      <td>146279.0</td>\n",
       "      <td>0.008018</td>\n",
       "      <td>0.801816</td>\n",
       "      <td>0.991982</td>\n",
       "    </tr>\n",
       "    <tr>\n",
       "      <th>2</th>\n",
       "      <td>c</td>\n",
       "      <td>318495.0</td>\n",
       "      <td>0.017458</td>\n",
       "      <td>1.745803</td>\n",
       "      <td>0.982542</td>\n",
       "    </tr>\n",
       "    <tr>\n",
       "      <th>3</th>\n",
       "      <td>d</td>\n",
       "      <td>292509.0</td>\n",
       "      <td>0.016034</td>\n",
       "      <td>1.603363</td>\n",
       "      <td>0.983966</td>\n",
       "    </tr>\n",
       "    <tr>\n",
       "      <th>4</th>\n",
       "      <td>e</td>\n",
       "      <td>1035870.0</td>\n",
       "      <td>0.056780</td>\n",
       "      <td>5.678032</td>\n",
       "      <td>0.943220</td>\n",
       "    </tr>\n",
       "  </tbody>\n",
       "</table>\n",
       "</div>"
      ],
      "text/plain": [
       "  letters      count  frequency     freq%  priority\n",
       "0       a   738459.0   0.040478  4.047799  0.959522\n",
       "1       b   146279.0   0.008018  0.801816  0.991982\n",
       "2       c   318495.0   0.017458  1.745803  0.982542\n",
       "3       d   292509.0   0.016034  1.603363  0.983966\n",
       "4       e  1035870.0   0.056780  5.678032  0.943220"
      ]
     },
     "execution_count": 7,
     "metadata": {},
     "output_type": "execute_result"
    }
   ],
   "source": [
    "analysis = pd.read_csv('data/analysis.csv')\n",
    "analysis['priority'] = 1 - analysis['frequency']\n",
    "priority = dict(analysis.set_index('letters')['priority'].to_dict().items())\n",
    "analysis.head()"
   ]
  },
  {
   "cell_type": "code",
   "execution_count": 55,
   "id": "02dd5931",
   "metadata": {},
   "outputs": [
    {
     "name": "stderr",
     "output_type": "stream",
     "text": [
      "100%|██████████| 376410/376410 [04:38<00:00, 1349.99it/s]\n"
     ]
    },
    {
     "data": {
      "text/plain": [
       "8872562"
      ]
     },
     "execution_count": 55,
     "metadata": {},
     "output_type": "execute_result"
    }
   ],
   "source": [
    "strategy = generation_strategy.by_size\n",
    "limits = [(50, 0, 0.75), (150, 0, 0.4), (300, 0, 0.1)]\n",
    "\n",
    "dataset = perturbate(glyphs, sentences, strategy, priority, limits=limits)\n",
    "len(dataset)"
   ]
  },
  {
   "cell_type": "code",
   "execution_count": 56,
   "id": "d5225101",
   "metadata": {},
   "outputs": [],
   "source": [
    "with open('data/dictionary_dataset_balanced_8m.pkl', 'wb') as file:\n",
    "    pickle.dump(dataset, file)"
   ]
  },
  {
   "cell_type": "code",
   "execution_count": 57,
   "id": "87704bc3",
   "metadata": {},
   "outputs": [],
   "source": [
    "dataset = np.array(dataset)"
   ]
  },
  {
   "cell_type": "code",
   "execution_count": 5,
   "id": "790a4dca",
   "metadata": {},
   "outputs": [
    {
     "data": {
      "text/plain": [
       "8872562"
      ]
     },
     "execution_count": 5,
     "metadata": {},
     "output_type": "execute_result"
    }
   ],
   "source": [
    "with open('data/dictionary_dataset_balanced_8m.pkl', 'rb') as file:\n",
    "    dataset = pickle.load(file)\n",
    "len(dataset)"
   ]
  },
  {
   "cell_type": "code",
   "execution_count": 8,
   "id": "f51d8546",
   "metadata": {},
   "outputs": [],
   "source": [
    "np.random.seed(42)\n",
    "np.random.shuffle(dataset)\n",
    "dataset_small = dataset[:len(dataset)//4]"
   ]
  },
  {
   "cell_type": "code",
   "execution_count": 11,
   "id": "66b94b49",
   "metadata": {},
   "outputs": [
    {
     "data": {
      "text/plain": [
       "[['A SLENDER BONY OR CARTILAGINOUS PROCESS DEVELOPED FROM THE HEEL BONE OF BATS. IT HELPS TO SUPPORT THE WING MEMBRANES. SEE ILLUST. ΟḞ ÇΗĘꞮⱤƠṔΤẸƦ.',\n",
       "  'A SLENDER BONY OR CARTILAGINOUS PROCESS DEVELOPED FROM THE HEEL BONE OF BATS. IT HELPS TO SUPPORT THE WING MEMBRANES. SEE ILLUST. OF CHEIROPTER.'],\n",
       " ['DESIGNED TO BE WORN OR PLACED INWARD; AS  THE WRONG SIDE OF A GARMENT OR OF A PIECE OF CLOṬꞪ.',\n",
       "  'DESIGNED TO BE WORN OR PLACED INWARD; AS  THE WRONG SIDE OF A GARMENT OR OF A PIECE OF CLOTH.'],\n",
       " ['THE WHOLE ARRANGEMENT  OR ONE RANGE OF THE KEYS OF AN ORꞬⱭṈ ṪʏƤẸᴡƦΙŢĖṞ ΕΤС.',\n",
       "  'THE WHOLE ARRANGEMENT  OR ONE RANGE OF THE KEYS OF AN ORGAN TYPEWRITER ETC.'],\n",
       " ['HAVING GRADUAL  ROUNDED UNDULATIONS OF SURFACE; AS A ROLLING COUŅṪṞȲ; ṚỎI1ÌṈĠ IẠṆḎ.',\n",
       "  'HAVING GRADUAL  ROUNDED UNDULATIONS OF SURFACE; AS A ROLLING COUNTRY; ROLLING LAND.'],\n",
       " ['Alt. of Zymosimeƫȩŗ', 'Alt. of Zymosimeter']]"
      ]
     },
     "execution_count": 11,
     "metadata": {},
     "output_type": "execute_result"
    }
   ],
   "source": [
    "dataset_small[:5]"
   ]
  },
  {
   "cell_type": "code",
   "execution_count": 7,
   "id": "ea1ac41a",
   "metadata": {},
   "outputs": [
    {
     "name": "stderr",
     "output_type": "stream",
     "text": [
      "100%|██████████| 8872562/8872562 [19:57<00:00, 7411.27it/s] \n"
     ]
    },
    {
     "name": "stdout",
     "output_type": "stream",
     "text": [
      "\n",
      "Mean word`s length: 5.019483909335402\n",
      "Mean sentence`s length: 77.09960099461689\n",
      "Count of letters: 172199506\n",
      "--------------------\n"
     ]
    },
    {
     "data": {
      "text/html": [
       "<div>\n",
       "<style scoped>\n",
       "    .dataframe tbody tr th:only-of-type {\n",
       "        vertical-align: middle;\n",
       "    }\n",
       "\n",
       "    .dataframe tbody tr th {\n",
       "        vertical-align: top;\n",
       "    }\n",
       "\n",
       "    .dataframe thead th {\n",
       "        text-align: right;\n",
       "    }\n",
       "</style>\n",
       "<table border=\"1\" class=\"dataframe\">\n",
       "  <thead>\n",
       "    <tr style=\"text-align: right;\">\n",
       "      <th></th>\n",
       "      <th>letters</th>\n",
       "      <th>count</th>\n",
       "      <th>frequency</th>\n",
       "      <th>freq%</th>\n",
       "    </tr>\n",
       "  </thead>\n",
       "  <tbody>\n",
       "    <tr>\n",
       "      <th>0</th>\n",
       "      <td>à</td>\n",
       "      <td>1185354.0</td>\n",
       "      <td>0.006884</td>\n",
       "      <td>0.688361</td>\n",
       "    </tr>\n",
       "    <tr>\n",
       "      <th>1</th>\n",
       "      <td>ɑ</td>\n",
       "      <td>1185354.0</td>\n",
       "      <td>0.006884</td>\n",
       "      <td>0.688361</td>\n",
       "    </tr>\n",
       "    <tr>\n",
       "      <th>2</th>\n",
       "      <td>ạ</td>\n",
       "      <td>1185354.0</td>\n",
       "      <td>0.006884</td>\n",
       "      <td>0.688361</td>\n",
       "    </tr>\n",
       "    <tr>\n",
       "      <th>3</th>\n",
       "      <td>ą</td>\n",
       "      <td>1185354.0</td>\n",
       "      <td>0.006884</td>\n",
       "      <td>0.688361</td>\n",
       "    </tr>\n",
       "    <tr>\n",
       "      <th>4</th>\n",
       "      <td>а</td>\n",
       "      <td>1185354.0</td>\n",
       "      <td>0.006884</td>\n",
       "      <td>0.688361</td>\n",
       "    </tr>\n",
       "  </tbody>\n",
       "</table>\n",
       "</div>"
      ],
      "text/plain": [
       "  letters      count  frequency     freq%\n",
       "0       à  1185354.0   0.006884  0.688361\n",
       "1       ɑ  1185354.0   0.006884  0.688361\n",
       "2       ạ  1185354.0   0.006884  0.688361\n",
       "3       ą  1185354.0   0.006884  0.688361\n",
       "4       а  1185354.0   0.006884  0.688361"
      ]
     },
     "execution_count": 7,
     "metadata": {},
     "output_type": "execute_result"
    }
   ],
   "source": [
    "glyphs_dict = sum(list(glyphs.values()), [])\n",
    "stop_words = ['.', ',', ';', ':', '?', '!', \"'\", '``', '`', '(', ')', '<', '>', '=', '{', '}', '/', '|', '~', '^', '%', '+', '-', '$']\n",
    "alphabet = {}\n",
    "\n",
    "for char in glyphs_dict:\n",
    "  alphabet[char] = 0\n",
    "\n",
    "\n",
    "df, meanWordLength, meanSentenceLength = analyzeSentences([x[0] for x in dataset], stop_words, alphabet, glyphs_dict)\n",
    "df.head()"
   ]
  },
  {
   "cell_type": "code",
   "execution_count": 13,
   "id": "adef20bd",
   "metadata": {
    "scrolled": false
   },
   "outputs": [
    {
     "data": {
      "text/html": [
       "<div>\n",
       "<style scoped>\n",
       "    .dataframe tbody tr th:only-of-type {\n",
       "        vertical-align: middle;\n",
       "    }\n",
       "\n",
       "    .dataframe tbody tr th {\n",
       "        vertical-align: top;\n",
       "    }\n",
       "\n",
       "    .dataframe thead th {\n",
       "        text-align: right;\n",
       "    }\n",
       "</style>\n",
       "<table border=\"1\" class=\"dataframe\">\n",
       "  <thead>\n",
       "    <tr style=\"text-align: right;\">\n",
       "      <th></th>\n",
       "      <th>letters</th>\n",
       "      <th>count</th>\n",
       "      <th>frequency</th>\n",
       "      <th>freq%</th>\n",
       "    </tr>\n",
       "  </thead>\n",
       "  <tbody>\n",
       "    <tr>\n",
       "      <th>179</th>\n",
       "      <td>I</td>\n",
       "      <td>4310484.0</td>\n",
       "      <td>0.100143</td>\n",
       "      <td>10.014296</td>\n",
       "    </tr>\n",
       "    <tr>\n",
       "      <th>56</th>\n",
       "      <td>i</td>\n",
       "      <td>4176718.0</td>\n",
       "      <td>0.097035</td>\n",
       "      <td>9.703525</td>\n",
       "    </tr>\n",
       "    <tr>\n",
       "      <th>55</th>\n",
       "      <td>1</td>\n",
       "      <td>841800.0</td>\n",
       "      <td>0.019557</td>\n",
       "      <td>1.955705</td>\n",
       "    </tr>\n",
       "    <tr>\n",
       "      <th>68</th>\n",
       "      <td>0</td>\n",
       "      <td>469891.0</td>\n",
       "      <td>0.010917</td>\n",
       "      <td>1.091670</td>\n",
       "    </tr>\n",
       "    <tr>\n",
       "      <th>21</th>\n",
       "      <td>ė</td>\n",
       "      <td>424883.0</td>\n",
       "      <td>0.009871</td>\n",
       "      <td>0.987106</td>\n",
       "    </tr>\n",
       "    <tr>\n",
       "      <th>...</th>\n",
       "      <td>...</td>\n",
       "      <td>...</td>\n",
       "      <td>...</td>\n",
       "      <td>...</td>\n",
       "    </tr>\n",
       "    <tr>\n",
       "      <th>48</th>\n",
       "      <td>ĵ</td>\n",
       "      <td>3956.0</td>\n",
       "      <td>0.000092</td>\n",
       "      <td>0.009191</td>\n",
       "    </tr>\n",
       "    <tr>\n",
       "      <th>47</th>\n",
       "      <td>ɉ</td>\n",
       "      <td>3899.0</td>\n",
       "      <td>0.000091</td>\n",
       "      <td>0.009058</td>\n",
       "    </tr>\n",
       "    <tr>\n",
       "      <th>49</th>\n",
       "      <td>ϳ</td>\n",
       "      <td>3875.0</td>\n",
       "      <td>0.000090</td>\n",
       "      <td>0.009003</td>\n",
       "    </tr>\n",
       "    <tr>\n",
       "      <th>46</th>\n",
       "      <td>ǰ</td>\n",
       "      <td>3865.0</td>\n",
       "      <td>0.000090</td>\n",
       "      <td>0.008979</td>\n",
       "    </tr>\n",
       "    <tr>\n",
       "      <th>45</th>\n",
       "      <td>ʝ</td>\n",
       "      <td>3865.0</td>\n",
       "      <td>0.000090</td>\n",
       "      <td>0.008979</td>\n",
       "    </tr>\n",
       "  </tbody>\n",
       "</table>\n",
       "<p>237 rows × 4 columns</p>\n",
       "</div>"
      ],
      "text/plain": [
       "    letters      count  frequency      freq%\n",
       "179       I  4310484.0   0.100143  10.014296\n",
       "56        i  4176718.0   0.097035   9.703525\n",
       "55        1   841800.0   0.019557   1.955705\n",
       "68        0   469891.0   0.010917   1.091670\n",
       "21        ė   424883.0   0.009871   0.987106\n",
       "..      ...        ...        ...        ...\n",
       "48        ĵ     3956.0   0.000092   0.009191\n",
       "47        ɉ     3899.0   0.000091   0.009058\n",
       "49        ϳ     3875.0   0.000090   0.009003\n",
       "46        ǰ     3865.0   0.000090   0.008979\n",
       "45        ʝ     3865.0   0.000090   0.008979\n",
       "\n",
       "[237 rows x 4 columns]"
      ]
     },
     "execution_count": 13,
     "metadata": {},
     "output_type": "execute_result"
    }
   ],
   "source": [
    "df.sort_values('count', ascending=False)"
   ]
  },
  {
   "cell_type": "code",
   "execution_count": 14,
   "id": "7869ba2c",
   "metadata": {},
   "outputs": [],
   "source": [
    "df.to_csv('data/homoglyphs_analysis_small.csv', index=False)"
   ]
  },
  {
   "cell_type": "code",
   "execution_count": 9,
   "id": "89dce9e9",
   "metadata": {},
   "outputs": [],
   "source": [
    "df.drop(df[(df.letters == 'I') | (df.letters == 'i') | (df.letters == '1') | (df.letters == '0')].index, inplace=True)"
   ]
  },
  {
   "cell_type": "code",
   "execution_count": 10,
   "id": "24e58ba9",
   "metadata": {
    "scrolled": false
   },
   "outputs": [
    {
     "name": "stderr",
     "output_type": "stream",
     "text": [
      "/opt/conda/lib/python3.8/site-packages/matplotlib/backends/backend_agg.py:240: RuntimeWarning: Glyph 7564 missing from current font.\n",
      "  font.set_text(s, 0.0, flags=flags)\n",
      "/opt/conda/lib/python3.8/site-packages/matplotlib/backends/backend_agg.py:240: RuntimeWarning: Glyph 7935 missing from current font.\n",
      "  font.set_text(s, 0.0, flags=flags)\n",
      "/opt/conda/lib/python3.8/site-packages/matplotlib/backends/backend_agg.py:240: RuntimeWarning: Glyph 42924 missing from current font.\n",
      "  font.set_text(s, 0.0, flags=flags)\n",
      "/opt/conda/lib/python3.8/site-packages/matplotlib/backends/backend_agg.py:240: RuntimeWarning: Glyph 42926 missing from current font.\n",
      "  font.set_text(s, 0.0, flags=flags)\n",
      "/opt/conda/lib/python3.8/site-packages/matplotlib/backends/backend_agg.py:240: RuntimeWarning: Glyph 42930 missing from current font.\n",
      "  font.set_text(s, 0.0, flags=flags)\n",
      "/opt/conda/lib/python3.8/site-packages/matplotlib/backends/backend_agg.py:240: RuntimeWarning: Glyph 42949 missing from current font.\n",
      "  font.set_text(s, 0.0, flags=flags)\n",
      "/opt/conda/lib/python3.8/site-packages/matplotlib/backends/backend_agg.py:240: RuntimeWarning: Glyph 7934 missing from current font.\n",
      "  font.set_text(s, 0.0, flags=flags)\n",
      "/opt/conda/lib/python3.8/site-packages/matplotlib/backends/backend_agg.py:203: RuntimeWarning: Glyph 7564 missing from current font.\n",
      "  font.set_text(s, 0, flags=flags)\n",
      "/opt/conda/lib/python3.8/site-packages/matplotlib/backends/backend_agg.py:203: RuntimeWarning: Glyph 7935 missing from current font.\n",
      "  font.set_text(s, 0, flags=flags)\n",
      "/opt/conda/lib/python3.8/site-packages/matplotlib/backends/backend_agg.py:203: RuntimeWarning: Glyph 42924 missing from current font.\n",
      "  font.set_text(s, 0, flags=flags)\n",
      "/opt/conda/lib/python3.8/site-packages/matplotlib/backends/backend_agg.py:203: RuntimeWarning: Glyph 42926 missing from current font.\n",
      "  font.set_text(s, 0, flags=flags)\n",
      "/opt/conda/lib/python3.8/site-packages/matplotlib/backends/backend_agg.py:203: RuntimeWarning: Glyph 42930 missing from current font.\n",
      "  font.set_text(s, 0, flags=flags)\n",
      "/opt/conda/lib/python3.8/site-packages/matplotlib/backends/backend_agg.py:203: RuntimeWarning: Glyph 42949 missing from current font.\n",
      "  font.set_text(s, 0, flags=flags)\n",
      "/opt/conda/lib/python3.8/site-packages/matplotlib/backends/backend_agg.py:203: RuntimeWarning: Glyph 7934 missing from current font.\n",
      "  font.set_text(s, 0, flags=flags)\n"
     ]
    },
    {
     "data": {
      "image/png": "[encoded data removed]",
      "text/plain": [
       "<Figure size 3600x720 with 1 Axes>"
      ]
     },
     "metadata": {
      "needs_background": "light"
     },
     "output_type": "display_data"
    }
   ],
   "source": [
    "fig = plt.figure(figsize=(50, 10))\n",
    "sns.barplot(x='letters', y='freq%', data=df)\n",
    "plt.xlabel('Letters')\n",
    "plt.ylabel('Frequency (%)')\n",
    "plt.savefig('data/plots/glyphs_bar_plot.png')"
   ]
  },
  {
   "cell_type": "code",
   "execution_count": 19,
   "id": "e73d8561",
   "metadata": {},
   "outputs": [],
   "source": [
    "with open('data/dictionary_dataset_balanced_2m.pkl', 'wb') as file:\n",
    "    pickle.dump(dataset_small, file)"
   ]
  }
 ],
 "metadata": {
  "kernelspec": {
   "display_name": "Python 3",
   "language": "python",
   "name": "python3"
  },
  "language_info": {
   "codemirror_mode": {
    "name": "ipython",
    "version": 3
   },
   "file_extension": ".py",
   "mimetype": "text/x-python",
   "name": "python",
   "nbconvert_exporter": "python",
   "pygments_lexer": "ipython3",
   "version": "3.8.8"
  }
 },
 "nbformat": 4,
 "nbformat_minor": 5
}
