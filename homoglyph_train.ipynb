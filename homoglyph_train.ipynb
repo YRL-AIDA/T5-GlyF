{
  "cells": [
    {
      "cell_type": "code",
      "execution_count": 1,
      "metadata": {
        "id": "ABVs4-EFd4Os",
        "colab": {
          "base_uri": "https://localhost:8080/"
        },
        "outputId": "b9ab2d6b-9572-4c5b-c11e-b5e541d06ab0"
      },
      "outputs": [
        {
          "output_type": "stream",
          "name": "stdout",
          "text": [
            "Requirement already satisfied: python-Levenshtein in /usr/local/lib/python3.10/dist-packages (0.25.1)\n",
            "Requirement already satisfied: Levenshtein==0.25.1 in /usr/local/lib/python3.10/dist-packages (from python-Levenshtein) (0.25.1)\n",
            "Requirement already satisfied: rapidfuzz<4.0.0,>=3.8.0 in /usr/local/lib/python3.10/dist-packages (from Levenshtein==0.25.1->python-Levenshtein) (3.9.4)\n"
          ]
        }
      ],
      "source": [
        "!pip install python-Levenshtein"
      ]
    },
    {
      "cell_type": "code",
      "execution_count": 2,
      "metadata": {
        "id": "hrVdajouGIwe"
      },
      "outputs": [],
      "source": [
        "from Levenshtein import distance, ratio"
      ]
    },
    {
      "cell_type": "code",
      "execution_count": 3,
      "metadata": {
        "id": "-EY9Btz4Pa6e"
      },
      "outputs": [],
      "source": [
        "import enum\n",
        "import copy\n",
        "import pickle\n",
        "import random\n",
        "import requests\n",
        "import numpy as np\n",
        "import pandas as pd\n",
        "import matplotlib.pyplot as plt\n",
        "from tqdm.auto import tqdm, trange\n",
        "\n",
        "import torch\n",
        "from torch.nn import CrossEntropyLoss\n",
        "from torch.utils.data import Dataset\n",
        "from torch.utils.data import DataLoader\n",
        "\n",
        "from transformers import T5ForConditionalGeneration, AutoTokenizer"
      ]
    },
    {
      "cell_type": "code",
      "source": [
        "# Поиск возможных замен (генерация, оценка)\n",
        "def get_index(lst, targets):\n",
        "  lst = np.array(lst)\n",
        "  indices = np.asarray([], dtype='int32')\n",
        "  for target in targets:\n",
        "    temp = np.where(lst == target)[0]\n",
        "    indices = np.concatenate([indices, temp], dtype='int32')\n",
        "  return indices"
      ],
      "metadata": {
        "id": "if7JzTPDLToZ"
      },
      "execution_count": 4,
      "outputs": []
    },
    {
      "cell_type": "markdown",
      "metadata": {
        "id": "rBS-w6eUwa_0"
      },
      "source": [
        "#Dataset generation using genetic algorithm | Генерация датасета с помощью генетического алгоритма\n"
      ]
    },
    {
      "cell_type": "code",
      "execution_count": null,
      "metadata": {
        "id": "H3q8nd7Uwd2a"
      },
      "outputs": [],
      "source": [
        "# Создание словаря омоглифов\n",
        "\n",
        "intentionals = dict()\n",
        "\n",
        "int_resp = requests.get(\"https://www.unicode.org/Public/security/latest/intentional.txt\", stream=True)\n",
        "for line in int_resp.iter_lines():\n",
        "  if len(line):\n",
        "    line = line.decode('utf-8-sig')\n",
        "    if line[0] != '#':\n",
        "      line = line.replace(\"#*\", \"#\")\n",
        "      _, line = line.split(\"#\", maxsplit=1)\n",
        "      if line[3] not in intentionals:\n",
        "        intentionals[line[3]] = []\n",
        "      intentionals[line[3]].append(line[7])"
      ]
    },
    {
      "cell_type": "code",
      "execution_count": null,
      "metadata": {
        "collapsed": true,
        "id": "AcbANFNWwjXf"
      },
      "outputs": [],
      "source": [
        "!pip install fairseq\n",
        "!pip install textdistance\n",
        "!pip install pyarrow\n",
        "!pip install sacremoses\n",
        "!pip install fastBPE\n",
        "!pip install subword_nmt"
      ]
    },
    {
      "cell_type": "code",
      "execution_count": null,
      "metadata": {
        "id": "17rJn6XawpQP"
      },
      "outputs": [],
      "source": [
        "from abc import ABC\n",
        "from typing import List, Tuple, Callable, Dict\n",
        "from fairseq.hub_utils import GeneratorHubInterface\n",
        "from scipy.optimize import NonlinearConstraint, differential_evolution\n",
        "from textdistance import levenshtein\n",
        "import pyarrow\n",
        "import sacremoses\n",
        "import fastBPE\n",
        "import subword_nmt"
      ]
    },
    {
      "cell_type": "code",
      "execution_count": null,
      "metadata": {
        "id": "p0_KD0tLwsY-"
      },
      "outputs": [],
      "source": [
        "device = \"cuda\" if torch.cuda.is_available() else \"cpu\"\n",
        "en2fr = torch.hub.load('pytorch/fairseq',\n",
        "                       'transformer.wmt14.en-fr',\n",
        "                       tokenizer='moses',\n",
        "                       bpe='subword_nmt').to(device)"
      ]
    },
    {
      "cell_type": "code",
      "execution_count": null,
      "metadata": {
        "id": "Hbwzuw4iwuOW"
      },
      "outputs": [],
      "source": [
        "class Objective(ABC):\n",
        "  \"\"\" Abstract class representing objectives for scipy's genetic algorithms.\"\"\"\n",
        "\n",
        "  def __init__(self, model: GeneratorHubInterface, input: str, max_perturbs: int, distance: Callable[[str,str],int]):\n",
        "    if not model:\n",
        "      raise ValueError(\"Must supply model.\")\n",
        "    if not input:\n",
        "      raise ValueError(\"Must supply input.\")\n",
        "\n",
        "    self.model: GeneratorHubInterface = model\n",
        "    self.input: str = input\n",
        "    self.max_perturbs: int = max_perturbs\n",
        "    self.distance: Callable[[str,str],int] = distance\n",
        "    self.output = self.model.translate(self.input)\n",
        "\n",
        "  def objective(self) -> Callable[[List[float]], float]:\n",
        "    def _objective(perturbations: List[float]) -> float:\n",
        "      candidate: str = self.candidate(perturbations)\n",
        "      translation: str = self.model.translate(candidate)\n",
        "      return -self.distance(self.output, translation)\n",
        "    return _objective\n",
        "\n",
        "  def differential_evolution(self, print_result=True, verbose=True, maxiter=60, popsize=32, polish=False) -> str:\n",
        "    result = differential_evolution(self.objective(), self.bounds(),\n",
        "                                    disp=verbose, maxiter=maxiter,\n",
        "                                    popsize=popsize, polish=polish)\n",
        "    candidate = self.candidate(result.x)\n",
        "    if (print_result):\n",
        "      print(f\"Result: {candidate}\")\n",
        "      print(f\"Result Distance: {result.fun}\")\n",
        "      print(f\"Perturbation Encoding: {result.x}\")\n",
        "      print(f\"Input Translation: {self.output}\")\n",
        "      print(f\"Result Translation: {self.model.translate(candidate)}\")\n",
        "    return candidate\n",
        "\n",
        "  def bounds(self) -> List[Tuple[float, float]]:\n",
        "    raise NotImplementedError()\n",
        "\n",
        "  def candidate(self, perturbations: List[float]) -> str:\n",
        "    raise NotImplementedError()\n",
        "\n",
        "\n",
        "def natural(x: float) -> int:\n",
        "    \"\"\"Rounds float to the nearest natural number (positive int)\"\"\"\n",
        "    return max(0, round(float(x)))"
      ]
    },
    {
      "cell_type": "code",
      "execution_count": null,
      "metadata": {
        "id": "pRGAuBf_wwMP"
      },
      "outputs": [],
      "source": [
        "class HomoglyphObjective(Objective):\n",
        "\n",
        "  def __init__(self, model: GeneratorHubInterface, input: str, max_perturbs=None, distance: Callable[[str,str],int] = levenshtein.distance, homoglyphs: Dict[str,List[str]] = intentionals, **kwargs):\n",
        "    super().__init__(model, input, max_perturbs, distance)\n",
        "    if not self.max_perturbs:\n",
        "      self.max_perturbs = len(self.input)\n",
        "    self.homoglyphs = homoglyphs\n",
        "    self.glyph_map = []\n",
        "    for i, char in enumerate(self.input):\n",
        "      if char in self.homoglyphs:\n",
        "        charmap = self.homoglyphs[char]\n",
        "        charmap = list(zip([i] * len(charmap), charmap))\n",
        "        self.glyph_map.extend(charmap)\n",
        "\n",
        "  def bounds(self) -> List[Tuple[float, float]]:\n",
        "    return [(-1, len(self.glyph_map)-1)] * self.max_perturbs\n",
        "\n",
        "  def candidate(self, perturbations: List[float]) -> str:\n",
        "    candidate = [char for char in self.input]\n",
        "    for perturb in map(natural, perturbations):\n",
        "      if perturb >= 0:\n",
        "        i, char = self.glyph_map[perturb]\n",
        "        candidate[i] = char\n",
        "    return ''.join(candidate)"
      ]
    },
    {
      "cell_type": "code",
      "execution_count": null,
      "metadata": {
        "id": "6PbvbYCYw1QO"
      },
      "outputs": [],
      "source": [
        "f = open('jfleg.txt', 'r')\n",
        "text = f.read().split('\\n')\n",
        "data = []\n",
        "for s in text:\n",
        "  new_s = s.split(' ')[:4]\n",
        "  new_s.remove(',') if ',' in new_s else None\n",
        "  new_s.remove(\"'s\") if \"'s\" in new_s else None\n",
        "  data.append(\" \".join(new_s))"
      ]
    },
    {
      "cell_type": "code",
      "execution_count": null,
      "metadata": {
        "id": "wRHOTfEf5k21"
      },
      "outputs": [],
      "source": [
        "text = pd.read_csv('unigram_freq.csv')\n",
        "words = list(text['word'])\n",
        "start = int(len(words)*0.8) # избегаем самые частые слова вроде предлогов и союзов\n",
        "words = words[start:start+600]\n",
        "for w in words:\n",
        "  if len(w) > 4:\n",
        "    data.append(w)\n",
        "data = np.array(data)"
      ]
    },
    {
      "cell_type": "code",
      "execution_count": null,
      "metadata": {
        "id": "Yxh1BLkJ-nBK"
      },
      "outputs": [],
      "source": [
        "np.random.seed(42)\n",
        "np.random.shuffle(data)\n",
        "len(data)"
      ]
    },
    {
      "cell_type": "code",
      "execution_count": null,
      "metadata": {
        "id": "RPyjJbIww-kW"
      },
      "outputs": [],
      "source": [
        "def experiment(model, objective, source, min_perturb, max_perturb, maxiter, popsize):\n",
        "  train = []\n",
        "  for i in trange(min_perturb, max_perturb, desc=\"Perturbations\"):\n",
        "    for sentence in tqdm(source, leave=False, desc=\"Sentences\"):\n",
        "      changed = objective(en2fr, sentence, max_perturbs=i).differential_evolution(print_result=False, verbose=False, maxiter=maxiter, popsize=popsize)\n",
        "      train.append((changed, sentence))\n",
        "  return train"
      ]
    },
    {
      "cell_type": "code",
      "execution_count": null,
      "metadata": {
        "id": "_wK028r3w_P-"
      },
      "outputs": [],
      "source": [
        "min_perturb = 1 # минимальное количество вмешательств\n",
        "max_perturb = 5 # максимальное количество вмешательств\n",
        "maxiter = 3 # количество поколений\n",
        "popsize = 16 # размер популяции\n",
        "ds = experiment(en2fr, HomoglyphObjective, data, min_perturb, max_perturb, maxiter, popsize)\n",
        "\n",
        "with open('homoglyph.pkl', 'wb') as f:\n",
        "  pickle.dump(ds, f)"
      ]
    },
    {
      "cell_type": "markdown",
      "metadata": {
        "id": "uMgLNvurRzw6"
      },
      "source": [
        "#Dataset generation using replacement | Генерация датасета с помощью замены"
      ]
    },
    {
      "cell_type": "code",
      "execution_count": 40,
      "metadata": {
        "id": "iwRkB1l3SL0j"
      },
      "outputs": [],
      "source": [
        "def perturbate(homoglyphs, words, min_perturb, max_perturb):\n",
        "  data = []\n",
        "  target = list(homoglyphs.keys())\n",
        "  for word in words:\n",
        "    w = list(word)\n",
        "    list_index = get_index(w, target)\n",
        "    if len(list_index) >= min_perturb:\n",
        "      max_index = min(len(list_index), max_perturb)\n",
        "    else:\n",
        "      max_index = len(list_index)\n",
        "      min_perturb = 0\n",
        "    for perturb in range(min_perturb, max_index + 1):\n",
        "      np.random.shuffle(list_index)\n",
        "      index = list_index[:perturb]\n",
        "      for i in index:\n",
        "        glyph = np.random.randint(0, len(homoglyphs[word[i]]))\n",
        "        w[i] = homoglyphs[word[i]][glyph]\n",
        "      data.append([\"\".join(w), word])\n",
        "      w = list(word)\n",
        "  data = np.array(data)\n",
        "  return data"
      ]
    },
    {
      "cell_type": "code",
      "execution_count": 11,
      "metadata": {
        "id": "Hssg6ZFuViXZ"
      },
      "outputs": [],
      "source": [
        "# Словарь омоглифов\n",
        "with open(\"data/homoglyphs.pkl\", \"rb\") as file:\n",
        "    glyphs = pickle.load(file)\n",
        "\n",
        "with open(\"data/sentences.pkl\", \"rb\") as file:\n",
        "    sentences = pickle.load(file)"
      ]
    },
    {
      "cell_type": "code",
      "execution_count": 12,
      "metadata": {
        "id": "YFSn0HCQJf4y",
        "colab": {
          "base_uri": "https://localhost:8080/"
        },
        "outputId": "3e181281-14c2-4311-b62a-b17c4e1e704c"
      },
      "outputs": [
        {
          "output_type": "execute_result",
          "data": {
            "text/plain": [
              "{'a': ['à', 'á', 'à', 'â', 'ã', 'ä', 'å', 'ɑ', 'ạ', 'ǎ', 'ă', 'ȧ', 'ą', 'а'],\n",
              " 'b': ['d', 'в', 'ɓ', 'ḃ', 'ḅ', 'ḇ', 'ƅ'],\n",
              " 'c': ['e', 'ƈ', 'ċ', 'ć', 'ç', 'č', 'ĉ', 'с'],\n",
              " 'd': ['b', 'ɗ', 'đ', 'ď', 'ɖ', 'ḑ', 'ḋ', 'ḍ', 'ḏ', 'ḓ'],\n",
              " 'e': ['c',\n",
              "  'é',\n",
              "  'è',\n",
              "  'ê',\n",
              "  'ë',\n",
              "  'ē',\n",
              "  'ĕ',\n",
              "  'ě',\n",
              "  'ė',\n",
              "  'ẹ',\n",
              "  'ę',\n",
              "  'ȩ',\n",
              "  'ɇ',\n",
              "  'ḛ',\n",
              "  'е'],\n",
              " 'f': ['ƒ', 'ḟ'],\n",
              " 'g': ['q', 'ɢ', 'ɡ', 'ġ', 'ğ', 'ǵ', 'ģ', 'ĝ', 'ǧ', 'ǥ'],\n",
              " 'h': ['h', 'ĥ', 'ȟ', 'ħ', 'ɦ', 'ḧ', 'ḩ', 'ⱨ', 'ḣ', 'ḥ', 'ḫ', 'ẖ'],\n",
              " 'i': ['1', 'l', 'í', 'ì', 'ï', 'ǐ', 'ĭ', 'ỉ', 'ị', 'ȋ', 'ī', 'ɪ'],\n",
              " 'j': ['ʝ', 'ǰ', 'ɉ', 'ĵ'],\n",
              " 'k': ['k', 'k', 'c', 'ḳ', 'ḵ', 'ⱪ', 'ķ', 'к'],\n",
              " 'l': ['1', 'i'],\n",
              " 'm': ['n', 'ṁ', 'ṃ', 'м', 'ɱ', 'ḿ'],\n",
              " 'n': ['ń', 'ṅ', 'ṇ', 'ṉ', 'ņ', 'п'],\n",
              " 'o': ['0', 'ȯ', 'ọ', 'ỏ', 'ơ', 'ó', 'ö', 'ᴏ'],\n",
              " 'p': ['ƿ', 'ƥ', 'ṕ', 'ṗ'],\n",
              " 'q': ['g', 'ʠ'],\n",
              " 'r': ['ʀ', 'ɼ', 'ɽ', 'ŕ', 'ŗ', 'ř', 'ɍ', 'ɾ', 'ȓ', 'ṙ', 'ṛ', 'ṟ'],\n",
              " 's': ['ʂ', 'ś', 'ṣ', 'ṡ', 'ș', 'ŝ', 'š', 'ꜱ'],\n",
              " 't': ['ţ', 'ṫ', 'ṭ', 'ț', 'ƫ'],\n",
              " 'u': ['ᴜ', 'ǔ', 'ŭ', 'ü', 'ù', 'ú', 'û', 'ũ', 'ū', 'ų', 'ư', 'ȗ', 'ụ'],\n",
              " 'v': ['ṿ', 'ⱱ', 'ᶌ', 'ṽ', 'ᴠ'],\n",
              " 'w': ['ŵ', 'ẁ', 'ẃ', 'ẅ', 'ⱳ', 'ẇ', 'ẉ', 'ẘ', 'ᴡ'],\n",
              " 'x': ['ẋ', 'ẍ', 'x'],\n",
              " 'y': ['ʏ', 'ý', 'ÿ', 'ŷ', 'у', 'ȳ', 'ɏ', 'ỿ', 'ẏ', 'ỵ'],\n",
              " 'z': ['ʐ', 'ż', 'ź', 'ᴢ', 'ƶ', 'ẓ', 'ẕ', 'ⱬ'],\n",
              " 'A': ['À', 'Á', 'À', 'Â', 'Ã', 'Ä', 'Å', 'Ɑ', 'Ạ', 'Ǎ', 'Ă', 'Ȧ', 'Ą', 'А'],\n",
              " 'B': ['D', 'В', 'Ɓ', 'Ḃ', 'Ḅ', 'Ḇ', 'Ƅ'],\n",
              " 'C': ['E', 'Ƈ', 'Ċ', 'Ć', 'Ç', 'Č', 'Ĉ', 'С'],\n",
              " 'D': ['B', 'Ɗ', 'Đ', 'Ď', 'Ɖ', 'Ḑ', 'Ḋ', 'Ḍ', 'Ḏ', 'Ḓ'],\n",
              " 'E': ['C',\n",
              "  'É',\n",
              "  'È',\n",
              "  'Ê',\n",
              "  'Ë',\n",
              "  'Ē',\n",
              "  'Ĕ',\n",
              "  'Ě',\n",
              "  'Ė',\n",
              "  'Ẹ',\n",
              "  'Ę',\n",
              "  'Ȩ',\n",
              "  'Ɇ',\n",
              "  'Ḛ',\n",
              "  'Е'],\n",
              " 'F': ['Ƒ', 'Ḟ'],\n",
              " 'G': ['Q', 'ɢ', 'Ɡ', 'Ġ', 'Ğ', 'Ǵ', 'Ģ', 'Ĝ', 'Ǧ', 'Ǥ'],\n",
              " 'H': ['H', 'Ĥ', 'Ȟ', 'Ħ', 'Ɦ', 'Ḧ', 'Ḩ', 'Ⱨ', 'Ḣ', 'Ḥ', 'Ḫ', 'H̱'],\n",
              " 'I': ['1', 'L', 'Í', 'Ì', 'Ï', 'Ǐ', 'Ĭ', 'Ỉ', 'Ị', 'Ȋ', 'Ī', 'Ɪ'],\n",
              " 'J': ['Ʝ', 'J̌', 'Ɉ', 'Ĵ'],\n",
              " 'K': ['K', 'K', 'C', 'Ḳ', 'Ḵ', 'Ⱪ', 'Ķ', 'К'],\n",
              " 'L': ['1', 'I'],\n",
              " 'M': ['N', 'Ṁ', 'Ṃ', 'М', 'Ɱ', 'Ḿ'],\n",
              " 'N': ['Ń', 'Ṅ', 'Ṇ', 'Ṉ', 'Ņ', 'П'],\n",
              " 'O': ['0', 'Ȯ', 'Ọ', 'Ỏ', 'Ơ', 'Ó', 'Ö', 'ᴏ'],\n",
              " 'P': ['Ƿ', 'Ƥ', 'Ṕ', 'Ṗ'],\n",
              " 'Q': ['G', 'ʠ'],\n",
              " 'R': ['Ʀ', 'ɼ', 'Ɽ', 'Ŕ', 'Ŗ', 'Ř', 'Ɍ', 'ɾ', 'Ȓ', 'Ṙ', 'Ṛ', 'Ṟ'],\n",
              " 'S': ['Ʂ', 'Ś', 'Ṣ', 'Ṡ', 'Ș', 'Ŝ', 'Š', 'ꜱ'],\n",
              " 'T': ['Ţ', 'Ṫ', 'Ṭ', 'Ț', 'ƫ'],\n",
              " 'U': ['ᴜ', 'Ǔ', 'Ŭ', 'Ü', 'Ù', 'Ú', 'Û', 'Ũ', 'Ū', 'Ų', 'Ư', 'Ȗ', 'Ụ'],\n",
              " 'V': ['Ṿ', 'ⱱ', 'ᶌ', 'Ṽ', 'ᴠ'],\n",
              " 'W': ['Ŵ', 'Ẁ', 'Ẃ', 'Ẅ', 'Ⱳ', 'Ẇ', 'Ẉ', 'W̊', 'ᴡ'],\n",
              " 'X': ['Ẋ', 'Ẍ', 'X'],\n",
              " 'Y': ['ʏ', 'Ý', 'Ÿ', 'Ŷ', 'У', 'Ȳ', 'Ɏ', 'Ỿ', 'Ẏ', 'Ỵ'],\n",
              " 'Z': ['ʐ', 'Ż', 'Ź', 'ᴢ', 'Ƶ', 'Ẓ', 'Ẕ', 'Ⱬ']}"
            ]
          },
          "metadata": {},
          "execution_count": 12
        }
      ],
      "source": [
        "glyphs"
      ]
    },
    {
      "cell_type": "code",
      "execution_count": 41,
      "metadata": {
        "id": "JgCUveGrWlui"
      },
      "outputs": [],
      "source": [
        "min_perturb = 1\n",
        "max_perturb = 20\n",
        "dataset = perturbate(glyphs, sentences, min_perturb, max_perturb)\n",
        "\n",
        "with open('data/dataset.pkl', 'wb') as f:\n",
        "  pickle.dump(dataset, f)"
      ]
    },
    {
      "cell_type": "code",
      "execution_count": 43,
      "metadata": {
        "id": "EqGFbs5GjFkA",
        "colab": {
          "base_uri": "https://localhost:8080/"
        },
        "outputId": "3d69fb0f-13ca-4ded-a19c-bac14bf10788"
      },
      "outputs": [
        {
          "output_type": "execute_result",
          "data": {
            "text/plain": [
              "(66302, 2)"
            ]
          },
          "metadata": {},
          "execution_count": 43
        }
      ],
      "source": [
        "dataset.shape"
      ]
    },
    {
      "cell_type": "markdown",
      "metadata": {
        "id": "RiPT7_qRxL00"
      },
      "source": [
        "#Preparation for training | Подготовка к обучению"
      ]
    },
    {
      "cell_type": "code",
      "execution_count": 5,
      "metadata": {
        "id": "Y8N1-GGOy6MP"
      },
      "outputs": [],
      "source": [
        "class AvailableCorrectors(enum.Enum):\n",
        "\n",
        "    sage_fredt5_large = \"ai-forever/sage-fredt5-large\"\n",
        "    sage_fredt5_distilled_95m = \"ai-forever/sage-fredt5-distilled-95m\"\n",
        "    sage_m2m100_1B = \"ai-forever/sage-m2m100-1.2B\"\n",
        "    sage_mt5_large = \"ai-forever/sage-mt5-large\"\n",
        "\n",
        "    m2m100_1B = \"ai-forever/RuM2M100-1.2B\"\n",
        "    m2m100_418M = \"ai-forever/RuM2M100-418M\"\n",
        "    fred_large = \"ai-forever/FRED-T5-large-spell\"\n",
        "    ent5_large = \"ai-forever/T5-large-spell\""
      ]
    },
    {
      "cell_type": "code",
      "execution_count": 6,
      "metadata": {
        "colab": {
          "base_uri": "https://localhost:8080/"
        },
        "id": "X30s_qcaxPAm",
        "outputId": "8616ad77-5a2e-4daf-ce5b-f2424caac077"
      },
      "outputs": [
        {
          "output_type": "stream",
          "name": "stderr",
          "text": [
            "/usr/local/lib/python3.10/dist-packages/huggingface_hub/utils/_token.py:89: UserWarning: \n",
            "The secret `HF_TOKEN` does not exist in your Colab secrets.\n",
            "To authenticate with the Hugging Face Hub, create a token in your settings tab (https://huggingface.co/settings/tokens), set it as secret in your Google Colab and restart your session.\n",
            "You will be able to reuse this secret in all of your notebooks.\n",
            "Please note that authentication is recommended but still optional to access public models or datasets.\n",
            "  warnings.warn(\n",
            "Special tokens have been added in the vocabulary, make sure the associated word embeddings are fine-tuned or trained.\n",
            "Special tokens have been added in the vocabulary, make sure the associated word embeddings are fine-tuned or trained.\n"
          ]
        }
      ],
      "source": [
        "path_to_model = AvailableCorrectors.sage_fredt5_distilled_95m.value\n",
        "\n",
        "model = T5ForConditionalGeneration.from_pretrained(path_to_model)\n",
        "tokenizer = AutoTokenizer.from_pretrained(path_to_model)"
      ]
    },
    {
      "cell_type": "code",
      "execution_count": 7,
      "metadata": {
        "id": "uO7G1ZCFEVDJ"
      },
      "outputs": [],
      "source": [
        "# Если данные загружать из ранее сгенерированного файла\n",
        "with open('data/dataset.pkl', 'rb') as f:\n",
        "  dataset = pickle.load(f)\n",
        "  dataset = np.array(dataset)\n",
        "\n",
        "# Словарь омоглифов\n",
        "with open(\"data/homoglyphs.pkl\", \"rb\") as f:\n",
        "    glyphs = pickle.load(f)"
      ]
    },
    {
      "cell_type": "code",
      "execution_count": 8,
      "metadata": {
        "colab": {
          "base_uri": "https://localhost:8080/"
        },
        "id": "Nm_MPN2ChW5m",
        "outputId": "4e8d857d-f877-4244-f735-08c96551d368"
      },
      "outputs": [
        {
          "output_type": "execute_result",
          "data": {
            "text/plain": [
              "Embedding(50629, 512)"
            ]
          },
          "metadata": {},
          "execution_count": 8
        }
      ],
      "source": [
        "tokens = list(set().union(*glyphs.values()))\n",
        "tokens = set(tokens) - set(tokenizer.vocab.keys())\n",
        "tokenizer.add_tokens(list(tokens))\n",
        "model.resize_token_embeddings(len(tokenizer))"
      ]
    },
    {
      "cell_type": "code",
      "source": [
        "np.random.seed(42)\n",
        "np.random.shuffle(dataset)"
      ],
      "metadata": {
        "id": "2yDYu2WS7s5S"
      },
      "execution_count": 9,
      "outputs": []
    },
    {
      "cell_type": "code",
      "source": [
        "dataset.shape"
      ],
      "metadata": {
        "id": "WCj0UAhK70B4",
        "colab": {
          "base_uri": "https://localhost:8080/"
        },
        "outputId": "35c4d71c-d292-412d-ba85-9c1381b0fa1d"
      },
      "execution_count": 10,
      "outputs": [
        {
          "output_type": "execute_result",
          "data": {
            "text/plain": [
              "(66302, 2)"
            ]
          },
          "metadata": {},
          "execution_count": 10
        }
      ]
    },
    {
      "cell_type": "code",
      "source": [
        "prefix = \"fix Homoglyphs: \"\n",
        "encoding_x = tokenizer([prefix + sentence for sentence in dataset[:, 0]], return_tensors='pt', padding='longest')\n",
        "attention_mask = encoding_x.attention_mask\n",
        "X_input_ids = encoding_x.input_ids\n",
        "y_input_ids = tokenizer(dataset[:, 1].tolist(), return_tensors='pt', padding='longest').input_ids\n",
        "y_input_ids[y_input_ids == tokenizer.pad_token_id] = -100"
      ],
      "metadata": {
        "id": "rE3_fQVr8gCy"
      },
      "execution_count": 11,
      "outputs": []
    },
    {
      "cell_type": "code",
      "execution_count": 12,
      "metadata": {
        "colab": {
          "base_uri": "https://localhost:8080/"
        },
        "id": "GKZEzCufhTES",
        "outputId": "57c02dc6-e693-49cd-fadd-ca3abdc386c0"
      },
      "outputs": [
        {
          "output_type": "execute_result",
          "data": {
            "text/plain": [
              "(torch.Size([53041, 144]), torch.Size([6630, 144]), (6631,))"
            ]
          },
          "metadata": {},
          "execution_count": 12
        }
      ],
      "source": [
        "train_size = int(0.8*dataset.shape[0])\n",
        "test_size = int(0.1*dataset.shape[0])\n",
        "\n",
        "x_train = X_input_ids[:train_size]\n",
        "train_mask = attention_mask[:train_size]\n",
        "y_train = y_input_ids[:train_size]\n",
        "\n",
        "x_valid = X_input_ids[train_size:train_size + test_size]\n",
        "valid_mask = attention_mask[train_size:train_size + test_size]\n",
        "y_valid = y_input_ids[train_size:train_size + test_size]\n",
        "\n",
        "x_test = dataset[train_size + test_size:, 0]\n",
        "y_test = dataset[train_size + test_size:, 1]\n",
        "\n",
        "x_train.shape, x_valid.shape, x_test.shape"
      ]
    },
    {
      "cell_type": "markdown",
      "metadata": {
        "id": "EBfG3qwowT5s"
      },
      "source": [
        "#Training | Обучение"
      ]
    },
    {
      "cell_type": "code",
      "execution_count": 13,
      "metadata": {
        "id": "r8nseuLKPh_K"
      },
      "outputs": [],
      "source": [
        "class HomoglyphDataset(Dataset):\n",
        "\n",
        "    def __init__(self, X, mask, y):\n",
        "        self.X = np.array(X)\n",
        "        self.mask = np.array(mask)\n",
        "        self.y = np.array(y)\n",
        "\n",
        "    def __len__(self):\n",
        "        return self.X.shape[0]\n",
        "\n",
        "    def __getitem__(self, index):\n",
        "        return (self.X[index], self.mask[index], self.y[index])"
      ]
    },
    {
      "cell_type": "code",
      "source": [
        "def checkHomoglyphs(output, target, glyphs):\n",
        "  count = 0\n",
        "  list_index = get_index(target, glyphs)\n",
        "  for c in list_index:\n",
        "    for glyph in glyphs[target[c]]:\n",
        "      if glyph in output:\n",
        "        c += 1\n",
        "        break\n",
        "  return count"
      ],
      "metadata": {
        "id": "2NjjGAiL89fG"
      },
      "execution_count": 14,
      "outputs": []
    },
    {
      "cell_type": "code",
      "source": [
        "def evaluate(model, dataset, check=False):\n",
        "    accuracy = 0\n",
        "    homoglyphs = 0\n",
        "    levenshtein = []\n",
        "    for sentence in dataset:\n",
        "      pred = predict(model, sentence[0])[0]\n",
        "      levenshtein.append(ratio(sentence[1], pred))\n",
        "      if(pred == sentence[1]):\n",
        "        accuracy += 1\n",
        "      elif(check):\n",
        "        homoglyphs += checkHomoglyphs(pred, sentence[1], glyphs)\n",
        "\n",
        "    print(f'Accuracy: {accuracy/len(dataset)}')\n",
        "    print(f'Levenshtein ratio: {np.mean(levenshtein)}')\n",
        "    print(f'Amount of homoglyphs: {homoglyphs}')\n",
        "\n",
        "def predict(model, x, prefix=\"\"):\n",
        "    encodings = tokenizer(prefix + x, return_tensors=\"pt\").to(device)\n",
        "    generated_tokens = model.generate(**encodings)\n",
        "    answer = tokenizer.batch_decode(generated_tokens, skip_special_tokens=True)\n",
        "    return answer"
      ],
      "metadata": {
        "id": "bXK5Y1SkL3u8"
      },
      "execution_count": 15,
      "outputs": []
    },
    {
      "cell_type": "code",
      "execution_count": 16,
      "metadata": {
        "id": "RNHlKtBOPoyd"
      },
      "outputs": [],
      "source": [
        "class M2T():\n",
        "  def __init__(self, device, dataset,\n",
        "               model, tokenizer, optimizer):\n",
        "\n",
        "    self.device = device\n",
        "    self.dataset = dataset\n",
        "    self.model = model\n",
        "    self.tokenizer = tokenizer\n",
        "    self.optimizer = optimizer\n",
        "\n",
        "    self.best_model = copy.deepcopy(model)\n",
        "    self.train_loss = []\n",
        "    self.val_loss = []\n",
        "    self.best_val_loss = float('inf')\n",
        "    self.best_epoch = 0\n",
        "\n",
        "  def plot_losses(self):\n",
        "    c_iter = range(len(self.train_loss))\n",
        "\n",
        "    fig = plt.figure(figsize=(15, 7), dpi=80)\n",
        "    ax = fig.gca()\n",
        "    ax.set_xticks(c_iter)\n",
        "    plt.plot(c_iter, self.train_loss, color='orange', label='train_loss')\n",
        "    plt.plot(c_iter, self.val_loss, color='blue', label='val_loss')\n",
        "\n",
        "    plt.legend(loc='upper right')\n",
        "    plt.title('Losses')\n",
        "    plt.savefig('losses.png')\n",
        "    plt.grid()\n",
        "    plt.show()\n",
        "\n",
        "  def fit(self, x_train, train_mask, y_train, x_train_val, valid_mask, y_train_val, epochs, learning_rate, batch_size, early_stopping_patience):\n",
        "\n",
        "    self.model.to(self.device)\n",
        "    optimizer = self.optimizer(self.model.parameters(), lr=learning_rate)\n",
        "\n",
        "    train = self.dataset(x_train, train_mask, y_train)\n",
        "    val = self.dataset(x_train_val, valid_mask, y_train_val)\n",
        "\n",
        "    train = DataLoader(train, batch_size=batch_size, shuffle=True)\n",
        "    val = DataLoader(val, batch_size=batch_size, shuffle=False)\n",
        "\n",
        "    for epoch in range(epochs):\n",
        "      mean_loss = 0\n",
        "      batch_n = 0\n",
        "      self.model.train(True)\n",
        "      print(f'epoch: {epoch + 1}/{epochs}', end=' ------ ')\n",
        "\n",
        "      for batch_i, (x, mask, y) in enumerate(train):\n",
        "        x = x.to(self.device)\n",
        "        y = y.to(self.device)\n",
        "        mask = mask.to(self.device)\n",
        "\n",
        "        loss = self.model(\n",
        "            input_ids=x,\n",
        "            attention_mask=mask,\n",
        "            labels=y,\n",
        "            return_dict=True\n",
        "        ).loss\n",
        "\n",
        "        loss.backward()\n",
        "        optimizer.step()\n",
        "        optimizer.zero_grad()\n",
        "\n",
        "        mean_loss += loss.item()\n",
        "        batch_n += 1\n",
        "\n",
        "      mean_loss /= batch_n\n",
        "      self.train_loss.append(mean_loss)\n",
        "      print(f'loss_train: {round(mean_loss, 3)}', end=' ; ')\n",
        "\n",
        "      self.model.eval()\n",
        "      mean_loss = 0\n",
        "      batch_n = 0\n",
        "\n",
        "      for batch_i, (x, mask, y) in enumerate(val):\n",
        "        x = x.to(self.device)\n",
        "        y = y.to(self.device)\n",
        "        mask = mask.to(self.device)\n",
        "\n",
        "        loss = self.model(\n",
        "            input_ids=x,\n",
        "            attention_mask=mask,\n",
        "            labels=y,\n",
        "            return_dict=True\n",
        "        ).loss\n",
        "\n",
        "        mean_loss += loss.item()\n",
        "        batch_n += 1\n",
        "\n",
        "      mean_loss /= batch_n\n",
        "      self.val_loss.append(mean_loss)\n",
        "      print(f'loss_val: {round(mean_loss, 3)}')\n",
        "\n",
        "      if mean_loss < self.best_val_loss:\n",
        "        self.best_epoch = epoch\n",
        "        self.best_val_loss = mean_loss\n",
        "        self.best_model = copy.deepcopy(model)\n",
        "        print('New best model.')\n",
        "      elif epoch - self.best_epoch > early_stopping_patience:\n",
        "        print(f'Model has not improved in the last {early_stopping_patience} epochs. Break.')\n",
        "        break"
      ]
    },
    {
      "cell_type": "code",
      "execution_count": 17,
      "metadata": {
        "colab": {
          "base_uri": "https://localhost:8080/"
        },
        "id": "uPRK9rjrUhgb",
        "outputId": "7af38875-0470-456c-cd0e-cbe5f6752664"
      },
      "outputs": [
        {
          "output_type": "stream",
          "name": "stdout",
          "text": [
            "Device: cuda\n"
          ]
        }
      ],
      "source": [
        "batch_size = 32\n",
        "epochs = 20\n",
        "early_stop = 20\n",
        "lr = 5e-4\n",
        "\n",
        "device = \"cuda\" if torch.cuda.is_available() else \"cpu\"\n",
        "print(f\"Device: {device}\")\n",
        "\n",
        "mtt_params = {\n",
        "    'device': device,\n",
        "    'dataset': HomoglyphDataset,\n",
        "    'model': model,\n",
        "    'tokenizer': tokenizer,\n",
        "    'optimizer': torch.optim.Adam,\n",
        "}\n",
        "\n",
        "fit_params = {\n",
        "    'x_train': x_train,\n",
        "    'train_mask': train_mask,\n",
        "    'y_train': y_train,\n",
        "    'x_train_val': x_valid,\n",
        "    'valid_mask': valid_mask,\n",
        "    'y_train_val': y_valid,\n",
        "    'epochs': epochs,\n",
        "    'learning_rate': lr,\n",
        "    'batch_size': batch_size,\n",
        "    'early_stopping_patience': early_stop,\n",
        "}"
      ]
    },
    {
      "cell_type": "code",
      "source": [
        "mtt = M2T(**mtt_params)"
      ],
      "metadata": {
        "id": "FSDgtlsxYIb7"
      },
      "execution_count": 18,
      "outputs": []
    },
    {
      "cell_type": "code",
      "execution_count": 19,
      "metadata": {
        "colab": {
          "base_uri": "https://localhost:8080/",
          "height": 349
        },
        "id": "0eL3f3nXzuZm",
        "outputId": "7d0d2499-13a5-422b-efa5-3818f4785466"
      },
      "outputs": [
        {
          "output_type": "stream",
          "name": "stdout",
          "text": [
            "epoch: 1/20 ------ loss_train: 0.15 ; loss_val: 0.009\n",
            "New best model.\n",
            "epoch: 2/20 ------ loss_train: 0.02 ; loss_val: 0.004\n",
            "New best model.\n",
            "epoch: 3/20 ------ "
          ]
        },
        {
          "output_type": "error",
          "ename": "KeyboardInterrupt",
          "evalue": "",
          "traceback": [
            "\u001b[0;31m---------------------------------------------------------------------------\u001b[0m",
            "\u001b[0;31mKeyboardInterrupt\u001b[0m                         Traceback (most recent call last)",
            "\u001b[0;32m<ipython-input-19-3adbc2d7b8af>\u001b[0m in \u001b[0;36m<cell line: 1>\u001b[0;34m()\u001b[0m\n\u001b[0;32m----> 1\u001b[0;31m \u001b[0mmtt\u001b[0m\u001b[0;34m.\u001b[0m\u001b[0mfit\u001b[0m\u001b[0;34m(\u001b[0m\u001b[0;34m**\u001b[0m\u001b[0mfit_params\u001b[0m\u001b[0;34m)\u001b[0m\u001b[0;34m\u001b[0m\u001b[0;34m\u001b[0m\u001b[0m\n\u001b[0m",
            "\u001b[0;32m<ipython-input-16-bb63cf1d351b>\u001b[0m in \u001b[0;36mfit\u001b[0;34m(self, x_train, train_mask, y_train, x_train_val, valid_mask, y_train_val, epochs, learning_rate, batch_size, early_stopping_patience)\u001b[0m\n\u001b[1;32m     63\u001b[0m         \u001b[0moptimizer\u001b[0m\u001b[0;34m.\u001b[0m\u001b[0mzero_grad\u001b[0m\u001b[0;34m(\u001b[0m\u001b[0;34m)\u001b[0m\u001b[0;34m\u001b[0m\u001b[0;34m\u001b[0m\u001b[0m\n\u001b[1;32m     64\u001b[0m \u001b[0;34m\u001b[0m\u001b[0m\n\u001b[0;32m---> 65\u001b[0;31m         \u001b[0mmean_loss\u001b[0m \u001b[0;34m+=\u001b[0m \u001b[0mloss\u001b[0m\u001b[0;34m.\u001b[0m\u001b[0mitem\u001b[0m\u001b[0;34m(\u001b[0m\u001b[0;34m)\u001b[0m\u001b[0;34m\u001b[0m\u001b[0;34m\u001b[0m\u001b[0m\n\u001b[0m\u001b[1;32m     66\u001b[0m         \u001b[0mbatch_n\u001b[0m \u001b[0;34m+=\u001b[0m \u001b[0;36m1\u001b[0m\u001b[0;34m\u001b[0m\u001b[0;34m\u001b[0m\u001b[0m\n\u001b[1;32m     67\u001b[0m \u001b[0;34m\u001b[0m\u001b[0m\n",
            "\u001b[0;31mKeyboardInterrupt\u001b[0m: "
          ]
        }
      ],
      "source": [
        "mtt.fit(**fit_params)"
      ]
    },
    {
      "cell_type": "code",
      "source": [
        "mtt.plot_losses()"
      ],
      "metadata": {
        "id": "m6GSGKsDST7D",
        "colab": {
          "base_uri": "https://localhost:8080/",
          "height": 498
        },
        "outputId": "ee588813-fb71-4a63-8fa0-929b9de852e0"
      },
      "execution_count": 20,
      "outputs": [
        {
          "output_type": "display_data",
          "data": {
            "text/plain": [
              "<Figure size 1200x560 with 1 Axes>"
            ],
            "image/png": "[encoded data removed]"
          },
          "metadata": {}
        }
      ]
    },
    {
      "cell_type": "code",
      "source": [
        "torch.save(mtt.best_model.state_dict(), '/content/drive/MyDrive/homoglyphs/model1107.pth')"
      ],
      "metadata": {
        "id": "pYn7Xd9vVHOM"
      },
      "execution_count": 21,
      "outputs": []
    },
    {
      "cell_type": "markdown",
      "source": [
        "#Evaluation | Оценка модели"
      ],
      "metadata": {
        "id": "njd9Y-hkSWtu"
      }
    },
    {
      "cell_type": "code",
      "source": [
        "device = \"cuda\" if torch.cuda.is_available() else \"cpu\"\n",
        "model.load_state_dict(torch.load('/data/model.pth', map_location=torch.device(device)))"
      ],
      "metadata": {
        "colab": {
          "base_uri": "https://localhost:8080/"
        },
        "id": "mSFDrK4tf8F3",
        "outputId": "9f547305-7dca-455f-d516-b17549747d4a"
      },
      "execution_count": null,
      "outputs": [
        {
          "output_type": "execute_result",
          "data": {
            "text/plain": [
              "<All keys matched successfully>"
            ]
          },
          "metadata": {},
          "execution_count": 33
        }
      ]
    },
    {
      "cell_type": "code",
      "execution_count": 25,
      "metadata": {
        "colab": {
          "base_uri": "https://localhost:8080/"
        },
        "id": "fk2OvavgJIqV",
        "outputId": "161fcd50-a169-4844-8fb6-e5cfdcc53da1"
      },
      "outputs": [
        {
          "output_type": "stream",
          "name": "stdout",
          "text": [
            "Three children dressed in winter clothes are walking throuĝh the ⱳoods while pushing cargo along. Three children dressed in winter clothes are walking through the woods while pushing cargo along.\n",
            "predict:  ['Three children dressed in winter clothes are walking through the woods while pushing cargo along.']\n",
            "\n",
            "A маń iṅ b1aċк īŝ crơṡšing tḧe roăḓ. A man in black is crossing the road.\n",
            "predict:  ['A man in black is crossing the road.']\n",
            "\n",
            "A Bląĉk woɱan on the sțreet is talkīng oņ her cei1pẖońe. A Black woman on the street is talking on her cellphone.\n",
            "predict:  ['A Black woman on the street is talking on her cellphone.']\n",
            "\n",
            "An oldeɾ man inɖưlgïng ỉп a b0ttle of amber l1qüīd. An older man indulging in a bottle of amber liquid.\n",
            "predict:  ['An older man indulging in a bottle of amber liquid.']\n",
            "\n",
            "A redḥȩáded woṁan walking aċross the stṙeet. A redheaded woman walking across the street.\n",
            "predict:  ['A redheaded woman walking across the street.']\n",
            "\n",
            "A yóung màṅ ţakes a walķ çarryinq a backpaćk and caмera. A young man takes a walk carrying a backpack and camera.\n",
            "predict:  ['A young man takes a walk carrying a backpack and camera.']\n",
            "\n",
            "The gȋr1 in ÿellow ꜱhorṭs ând ŵẖite jaćkėt has a tenniṣ bа11 in her lĕḟṭ ṗockéƫ. The girl in yellow shorts and white jacket has a tennis ball in her left pocket.\n",
            "predict:  ['The girl in yellow shorts and white jacket has a tennis ball in her left pocket.']\n",
            "\n",
            "Män on ceilphone walking in frỏnṭ of silver car next to green grass. Man on cellphone walking in front of silver car next to green grass.\n",
            "predict:  ['Man on cellphone walking in front of silver car next to green grass.']\n",
            "\n",
            "A shīrtless man is singing into a microphone while a woman nëxt țo hin plays an accordion. A shirtless man is singing into a microphone while a woman next to him plays an accordion.\n",
            "predict:  ['A shirtless man is singing into a microphone while a woman next to him plays an accordion.']\n",
            "\n",
            "A woman ŵatcheṡ a cⱨild play пĕar a ŝmal1 póoi. A woman watches a child play near a small pool.\n",
            "predict:  ['A woman watches a child play near a small pool.']\n",
            "\n"
          ]
        }
      ],
      "source": [
        "for i in range(120, 130):\n",
        "  print(x_test[i], y_test[i])\n",
        "  print(\"predict: \", predict(mtt.best_model, x_test[i], prefix))\n",
        "  print()"
      ]
    },
    {
      "cell_type": "code",
      "execution_count": 23,
      "metadata": {
        "colab": {
          "base_uri": "https://localhost:8080/"
        },
        "id": "lNV1BsgoAcRQ",
        "outputId": "562728f6-e30f-447e-b716-845c64efc199"
      },
      "outputs": [
        {
          "output_type": "stream",
          "name": "stdout",
          "text": [
            "Accuracy: 0.9129844668979038\n",
            "Levenshtein ratio: 0.9958707628992233\n",
            "Amount of homoglyphs: 0\n"
          ]
        }
      ],
      "source": [
        "data = np.stack((x_test, y_test), axis=1)\n",
        "evaluate(mtt.best_model, data)"
      ]
    }
  ],
  "metadata": {
    "colab": {
      "collapsed_sections": [
        "rBS-w6eUwa_0",
        "uMgLNvurRzw6",
        "RiPT7_qRxL00",
        "EBfG3qwowT5s"
      ],
      "provenance": [],
      "gpuType": "T4"
    },
    "kernelspec": {
      "display_name": "Python 3",
      "name": "python3"
    },
    "language_info": {
      "name": "python"
    },
    "accelerator": "GPU"
  },
  "nbformat": 4,
  "nbformat_minor": 0
}